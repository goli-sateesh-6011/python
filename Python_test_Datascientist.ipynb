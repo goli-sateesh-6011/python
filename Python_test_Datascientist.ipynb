{
 "cells": [
  {
   "cell_type": "code",
   "execution_count": 17,
   "id": "44b98334",
   "metadata": {},
   "outputs": [],
   "source": [
    "import requests\n",
    "\n",
    "endpoint = \"https://api.openweathermap.org/data/2.5/weather?q=paris&appid=18bce6654cb928cd47eccf2abc2b673b\"\n",
    "\n",
    "response = requests.get(endpoint)"
   ]
  },
  {
   "cell_type": "code",
   "execution_count": 18,
   "id": "23658d3f",
   "metadata": {},
   "outputs": [
    {
     "name": "stdout",
     "output_type": "stream",
     "text": [
      "{'coord': {'lon': 2.3488, 'lat': 48.8534}, 'weather': [{'id': 800, 'main': 'Clear', 'description': 'clear sky', 'icon': '01d'}], 'base': 'stations', 'main': {'temp': 294.87, 'feels_like': 295.06, 'temp_min': 293.47, 'temp_max': 296.07, 'pressure': 1015, 'humidity': 75}, 'visibility': 10000, 'wind': {'speed': 2.06, 'deg': 30}, 'clouds': {'all': 0}, 'dt': 1688026146, 'sys': {'type': 2, 'id': 2041230, 'country': 'FR', 'sunrise': 1688010583, 'sunset': 1688068680}, 'timezone': 7200, 'id': 2988507, 'name': 'Paris', 'cod': 200}\n"
     ]
    }
   ],
   "source": [
    "print(response.json())"
   ]
  },
  {
   "cell_type": "code",
   "execution_count": 20,
   "id": "1a50a50e",
   "metadata": {},
   "outputs": [
    {
     "name": "stdout",
     "output_type": "stream",
     "text": [
      "[{'coord': {'lon': 2.3488, 'lat': 48.8534}, 'weather': [{'id': 800, 'main': 'Clear', 'description': 'clear sky', 'icon': '01d'}], 'base': 'stations', 'main': {'temp': 295.25, 'feels_like': 295.45, 'temp_min': 293.71, 'temp_max': 296.53, 'pressure': 1015, 'humidity': 74}, 'visibility': 10000, 'wind': {'speed': 1.54, 'deg': 10}, 'clouds': {'all': 0}, 'dt': 1688027605, 'sys': {'type': 2, 'id': 2041230, 'country': 'FR', 'sunrise': 1688010583, 'sunset': 1688068680}, 'timezone': 7200, 'id': 2988507, 'name': 'Paris', 'cod': 200}, {'coord': {'lon': -0.1257, 'lat': 51.5085}, 'weather': [{'id': 803, 'main': 'Clouds', 'description': 'broken clouds', 'icon': '04d'}], 'base': 'stations', 'main': {'temp': 288.75, 'feels_like': 288.85, 'temp_min': 287.9, 'temp_max': 289.4, 'pressure': 1015, 'humidity': 95}, 'visibility': 10000, 'wind': {'speed': 2.06, 'deg': 320}, 'clouds': {'all': 75}, 'dt': 1688027597, 'sys': {'type': 2, 'id': 2075535, 'country': 'GB', 'sunrise': 1688010361, 'sunset': 1688070091}, 'timezone': 3600, 'id': 2643743, 'name': 'London', 'cod': 200}, {'coord': {'lon': -120.5015, 'lat': 47.5001}, 'weather': [{'id': 803, 'main': 'Clouds', 'description': 'broken clouds', 'icon': '04n'}], 'base': 'stations', 'main': {'temp': 292.02, 'feels_like': 291.56, 'temp_min': 287.14, 'temp_max': 295.37, 'pressure': 1016, 'humidity': 61, 'sea_level': 1016, 'grnd_level': 959}, 'visibility': 10000, 'wind': {'speed': 2.52, 'deg': 287, 'gust': 3.14}, 'clouds': {'all': 77}, 'dt': 1688027779, 'sys': {'type': 2, 'id': 2003593, 'country': 'US', 'sunrise': 1688040451, 'sunset': 1688097788}, 'timezone': -25200, 'id': 5815135, 'name': 'Washington', 'cod': 200}]\n"
     ]
    }
   ],
   "source": [
    "2.#Defining a function to get the city\n",
    "def get_city_data(city_name):\n",
    "    endpoint = f\"https://api.openweathermap.org/data/2.5/weather?q={city_name}&appid=18bce6654cb928cd47eccf2abc2b673b\"\n",
    "    response=requests.get(endpoint)\n",
    "    data=response.json()\n",
    "    return data\n",
    "\n",
    "cities = ['paris','london','washington']\n",
    "\n",
    "results = []\n",
    "\n",
    "for city in cities:\n",
    "    city_data = get_city_data(city)\n",
    "    results.append(city_data)\n",
    "\n",
    "print(results)"
   ]
  },
  {
   "cell_type": "code",
   "execution_count": 23,
   "id": "80de5df7",
   "metadata": {},
   "outputs": [
    {
     "name": "stdout",
     "output_type": "stream",
     "text": [
      "Successful Request.\n",
      "Successful Request.\n",
      "Successful Request.\n",
      "[{'Name': 'Paris', 'Temperature': 296.17}, {'Name': 'London', 'Temperature': 289.07}, {'Name': 'Washington', 'Temperature': 291.39}]\n",
      "City:Paris,Temperature:296.17K\n",
      "City:London,Temperature:289.07K\n",
      "City:Washington,Temperature:291.39K\n",
      "The coldest city is London with a temperature of 289.07 K\n"
     ]
    }
   ],
   "source": [
    "#3.Processing the data:\n",
    "\n",
    "def get_city_temp(city_name):\n",
    "    city_data = get_city_data(city_name)\n",
    "    city_temp = city_data['main']['temp']\n",
    "    city_name = city_data['name']\n",
    "    return {\"Name\":city_name,\"Temperature\":city_temp}\n",
    "\n",
    "result = []\n",
    "\n",
    "for city in cities:\n",
    "    city_temp = get_city_temp(city)\n",
    "    result.append(city_temp)\n",
    "    \n",
    "print(result)\n",
    "\n",
    "for city in result:\n",
    "    print(f\"City:{city['Name']},Temperature:{city['Temperature']}K\")\n",
    "   \n",
    "coldest_city = min ( result , key = lambda  x : x [ 'Temperature' ])\n",
    "print(f\"The coldest city is {coldest_city['Name']} with a temperature of {coldest_city['Temperature']} K\")\n"
   ]
  },
  {
   "cell_type": "code",
   "execution_count": 22,
   "id": "d422eb05",
   "metadata": {},
   "outputs": [
    {
     "name": "stdout",
     "output_type": "stream",
     "text": [
      "Successful Request.\n",
      "ClientError.\n"
     ]
    }
   ],
   "source": [
    "#Status of the code\n",
    "\n",
    "def get_city_data(city_name):\n",
    "    endpoint = f\"https://api.openweathermap.org/data/2.5/weather?q={city_name}&appid=18bce6654cb928cd47eccf2abc2b673b\"\n",
    "    response = requests . get ( endpoint )\n",
    "    \n",
    "    if  response.status_code == 200 :\n",
    "        print (\"Successful Request.\")\n",
    "        return  response . json ()\n",
    "    elif  400  <= response.status_code  <  500:\n",
    "        print (\"ClientError.\")\n",
    "        return  None\n",
    "    elif  500  <= response.status_code  <  600:\n",
    "        print (\"ServerError.\")\n",
    "        return  None\n",
    "    else :\n",
    "        print (\"Unknown Error.\")\n",
    "        return  None\n",
    "\n",
    "get_city_data (\"paris\")\n",
    "get_city_data (\"jdieijdei\")"
   ]
  },
  {
   "cell_type": "code",
   "execution_count": 24,
   "id": "a5eff894",
   "metadata": {},
   "outputs": [
    {
     "name": "stdout",
     "output_type": "stream",
     "text": [
      "Successful Request.\n",
      "ClientError.\n"
     ]
    },
    {
     "ename": "SystemExit",
     "evalue": "Exiting the program.",
     "output_type": "error",
     "traceback": [
      "An exception has occurred, use %tb to see the full traceback.\n",
      "\u001b[0;31mSystemExit\u001b[0m\u001b[0;31m:\u001b[0m Exiting the program.\n"
     ]
    },
    {
     "name": "stderr",
     "output_type": "stream",
     "text": [
      "/home/satish/anaconda3/lib/python3.10/site-packages/IPython/core/interactiveshell.py:3468: UserWarning: To exit: use 'exit', 'quit', or Ctrl-D.\n",
      "  warn(\"To exit: use 'exit', 'quit', or Ctrl-D.\", stacklevel=1)\n"
     ]
    }
   ],
   "source": [
    "import sys\n",
    "\n",
    "def  get_city_data ( city_name ):\n",
    "    endpoint = f\"https://api.openweathermap.org/data/2.5/weather?q={city_name}&appid=18bce6654cb928cd47eccf2abc2b673b\"\n",
    "    response = requests . get ( endpoint )\n",
    "    \n",
    "    if  response.status_code == 200 :\n",
    "        print (\"Successful Request.\")\n",
    "        return  response . json ()\n",
    "    elif  400  <= response . status_code  <  500 :\n",
    "        print (\"ClientError.\")\n",
    "        sys.exit (\"Exiting the program.\")\n",
    "    elif  500  <= response . status_code  <  600 :\n",
    "        print (\"ServerError.\")\n",
    "        sys.exit (\"Exiting the program.\")\n",
    "    else :\n",
    "        print ( \"Unknown Error.\" )\n",
    "        sys.exit ( \"Exiting the program.\" )\n",
    "\n",
    "get_city_data ( \"paris\" )\n",
    "get_city_data ( \"jdieijdei\" )"
   ]
  },
  {
   "cell_type": "code",
   "execution_count": 83,
   "id": "cd22d344",
   "metadata": {},
   "outputs": [
    {
     "name": "stdout",
     "output_type": "stream",
     "text": [
      "Successful Request.\n"
     ]
    },
    {
     "data": {
      "text/plain": [
       "{'Name': 'London', 'Temperature': 'value'}"
      ]
     },
     "execution_count": 83,
     "metadata": {},
     "output_type": "execute_result"
    }
   ],
   "source": [
    "def get_city_temp(city_name):\n",
    "    city_data = get_city_data(city_name)\n",
    "    city_temp = city_data['main']['temp']\n",
    "    city_name = city_data['name']\n",
    "    return {\"Name\":city_name,\"Temperature\":\"value\"}\n",
    "\n",
    "get_city_temp('london')"
   ]
  },
  {
   "cell_type": "code",
   "execution_count": 40,
   "id": "19958870",
   "metadata": {},
   "outputs": [
    {
     "name": "stdout",
     "output_type": "stream",
     "text": [
      "[{'coord': {'lon': 2.3488, 'lat': 48.8534}, 'weather': [{'id': 800, 'main': 'Clear', 'description': 'clear sky', 'icon': '01n'}], 'base': 'stations', 'main': {'temp': 294.63, 'feels_like': 294.69, 'temp_min': 292.33, 'temp_max': 295.45, 'pressure': 1016, 'humidity': 71}, 'visibility': 10000, 'wind': {'speed': 3.09, 'deg': 70}, 'clouds': {'all': 0}, 'dt': 1687998145, 'sys': {'type': 2, 'id': 2041230, 'country': 'FR', 'sunrise': 1688010583, 'sunset': 1688068680}, 'timezone': 7200, 'id': 2988507, 'name': 'Paris', 'cod': 200}, {'coord': {'lon': 2.3488, 'lat': 48.8534}, 'weather': [{'id': 800, 'main': 'Clear', 'description': 'clear sky', 'icon': '01n'}], 'base': 'stations', 'main': {'temp': 294.6, 'feels_like': 294.65, 'temp_min': 292.33, 'temp_max': 295.45, 'pressure': 1016, 'humidity': 71}, 'visibility': 10000, 'wind': {'speed': 3.09, 'deg': 70}, 'clouds': {'all': 0}, 'dt': 1687998431, 'sys': {'type': 2, 'id': 2041230, 'country': 'FR', 'sunrise': 1688010583, 'sunset': 1688068680}, 'timezone': 7200, 'id': 2988507, 'name': 'Paris', 'cod': 200}, {'coord': {'lon': 2.3488, 'lat': 48.8534}, 'weather': [{'id': 800, 'main': 'Clear', 'description': 'clear sky', 'icon': '01n'}], 'base': 'stations', 'main': {'temp': 294.63, 'feels_like': 294.69, 'temp_min': 292.33, 'temp_max': 295.45, 'pressure': 1016, 'humidity': 71}, 'visibility': 10000, 'wind': {'speed': 3.09, 'deg': 70}, 'clouds': {'all': 0}, 'dt': 1687998145, 'sys': {'type': 2, 'id': 2041230, 'country': 'FR', 'sunrise': 1688010583, 'sunset': 1688068680}, 'timezone': 7200, 'id': 2988507, 'name': 'Paris', 'cod': 200}]\n"
     ]
    }
   ],
   "source": [
    "import  requests\n",
    "def  get_city_data ( city_name ):\n",
    "    endpoint = \"https://api.openweathermap.org/data/2.5/weather?q=paris&appid=18bce6654cb928cd47eccf2abc2b673b\"\n",
    "    data = requests . get ( endpoint ). json ()\n",
    "    return  data\n",
    "    \n",
    "cities = [ 'paris' , 'london' , 'washington' ]\n",
    "\n",
    "results = []\n",
    "\n",
    "for  city  in  cities :\n",
    "    city_data = get_city_data ( city )\n",
    "    results . append ( city_data )\n",
    "print ( results )"
   ]
  },
  {
   "cell_type": "code",
   "execution_count": 41,
   "id": "6e484703",
   "metadata": {},
   "outputs": [
    {
     "name": "stdout",
     "output_type": "stream",
     "text": [
      "City: Paris, Temperature: 294.63 K\n",
      "City: London, Temperature: 292.33 K\n",
      "City: Washington, Temperature: 302.79 K\n",
      "The coldest city is London with a temperature of 292.33 K\n"
     ]
    }
   ],
   "source": [
    "import  requests\n",
    "def  get_city_data ( city_name ):\n",
    "    endpoint = f\"https://api.openweathermap.org/data/2.5/weather?q={city_name}&appid=18bce6654cb928cd47eccf2abc2b673b\"\n",
    "    response = requests . get ( endpoint )\n",
    "    return  response . json ()\n",
    "\n",
    "def  get_city_temp ( city_name ):\n",
    "    city_data = get_city_data ( city_name )\n",
    "    temp_kelvin = city_data [ 'main' ][ 'temp' ]\n",
    "    city_name = city_data [ 'name' ]\n",
    "    return { \"Name\" : city_name , \"Temperature\" : temp_kelvin }\n",
    "\n",
    "cities = [ 'paris' , 'london' , 'washington' ]\n",
    "results = []\n",
    "\n",
    "for  city  in  cities :\n",
    "    city_temp = get_city_temp ( city )\n",
    "    results . append ( city_temp )\n",
    "\n",
    "for  city  in  results :\n",
    "    print ( f\"City: {city['Name']}, Temperature: {city['Temperature']} K\" )\n",
    "\n",
    "coldest_city = min ( results , key = lambda  x : x [ 'Temperature' ])\n",
    "print ( f\"The coldest city is {coldest_city['Name']} with a temperature of {coldest_city['Temperature']} K\" )"
   ]
  },
  {
   "cell_type": "code",
   "execution_count": null,
   "id": "266f91e6",
   "metadata": {},
   "outputs": [],
   "source": []
  }
 ],
 "metadata": {
  "kernelspec": {
   "display_name": "Python 3 (ipykernel)",
   "language": "python",
   "name": "python3"
  },
  "language_info": {
   "codemirror_mode": {
    "name": "ipython",
    "version": 3
   },
   "file_extension": ".py",
   "mimetype": "text/x-python",
   "name": "python",
   "nbconvert_exporter": "python",
   "pygments_lexer": "ipython3",
   "version": "3.10.9"
  }
 },
 "nbformat": 4,
 "nbformat_minor": 5
}
